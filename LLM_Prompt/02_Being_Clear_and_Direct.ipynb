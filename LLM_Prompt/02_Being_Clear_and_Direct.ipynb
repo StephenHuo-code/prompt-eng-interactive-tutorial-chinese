{
 "cells": [
  {
   "cell_type": "markdown",
   "metadata": {},
   "source": [
    "# Chapter 2: 清晰和直接\n",
    "\n",
    "- [Lesson](#lesson)\n",
    "- [Exercises](#exercises)\n",
    "- [Example Playground](#example-playground)\n",
    "\n",
    "\n",
    "# 设置\n",
    "运行以下设置单元格来加载您的API密钥并建立get_completion辅助函数。"
   ]
  },
  {
   "cell_type": "code",
   "execution_count": 1,
   "metadata": {},
   "outputs": [
    {
     "name": "stdout",
     "output_type": "stream",
     "text": [
      "Requirement already satisfied: anthropic in /opt/miniconda3/lib/python3.13/site-packages (0.56.0)\n",
      "Requirement already satisfied: anyio<5,>=3.5.0 in /opt/miniconda3/lib/python3.13/site-packages (from anthropic) (4.9.0)\n",
      "Requirement already satisfied: distro<2,>=1.7.0 in /opt/miniconda3/lib/python3.13/site-packages (from anthropic) (1.9.0)\n",
      "Requirement already satisfied: httpx<1,>=0.25.0 in /opt/miniconda3/lib/python3.13/site-packages (from anthropic) (0.28.1)\n",
      "Requirement already satisfied: jiter<1,>=0.4.0 in /opt/miniconda3/lib/python3.13/site-packages (from anthropic) (0.10.0)\n",
      "Requirement already satisfied: pydantic<3,>=1.9.0 in /opt/miniconda3/lib/python3.13/site-packages (from anthropic) (2.10.3)\n",
      "Requirement already satisfied: sniffio in /opt/miniconda3/lib/python3.13/site-packages (from anthropic) (1.3.1)\n",
      "Requirement already satisfied: typing-extensions<5,>=4.10 in /opt/miniconda3/lib/python3.13/site-packages (from anthropic) (4.12.2)\n",
      "Requirement already satisfied: idna>=2.8 in /opt/miniconda3/lib/python3.13/site-packages (from anyio<5,>=3.5.0->anthropic) (3.7)\n",
      "Requirement already satisfied: certifi in /opt/miniconda3/lib/python3.13/site-packages (from httpx<1,>=0.25.0->anthropic) (2025.4.26)\n",
      "Requirement already satisfied: httpcore==1.* in /opt/miniconda3/lib/python3.13/site-packages (from httpx<1,>=0.25.0->anthropic) (1.0.9)\n",
      "Requirement already satisfied: h11>=0.16 in /opt/miniconda3/lib/python3.13/site-packages (from httpcore==1.*->httpx<1,>=0.25.0->anthropic) (0.16.0)\n",
      "Requirement already satisfied: annotated-types>=0.6.0 in /opt/miniconda3/lib/python3.13/site-packages (from pydantic<3,>=1.9.0->anthropic) (0.6.0)\n",
      "Requirement already satisfied: pydantic-core==2.27.1 in /opt/miniconda3/lib/python3.13/site-packages (from pydantic<3,>=1.9.0->anthropic) (2.27.1)\n"
     ]
    }
   ],
   "source": [
    "!pip install anthropic\n",
    "\n",
    "# Import python's built-in regular expression library\n",
    "import re\n",
    "import anthropic\n",
    "\n",
    "# Retrieve the API_KEY & MODEL_NAME variables from the IPython store\n",
    "%store -r API_KEY\n",
    "%store -r MODEL_NAME\n",
    "\n",
    "client = anthropic.Anthropic(api_key=API_KEY)\n",
    "\n",
    "# Note that we changed max_tokens to 4K just for this lesson to allow for longer completions in the exercises\n",
    "def get_completion(prompt: str, system_prompt=\"\"):\n",
    "    message = client.messages.create(\n",
    "        model=MODEL_NAME,\n",
    "        max_tokens=4000,\n",
    "        temperature=0.0,\n",
    "        system=system_prompt,\n",
    "        messages=[\n",
    "          {\"role\": \"user\", \"content\": prompt}\n",
    "        ]\n",
    "    )\n",
    "    return message.content[0].text"
   ]
  },
  {
   "cell_type": "markdown",
   "metadata": {},
   "source": [
    "\t\n",
    "## 课程\n",
    "**大模型对清晰直接的指令反应最好。**\n",
    "\n",
    "将大模型想象成任何刚开始工作的新人。大模型没有任何上下文，除了您明确告诉它的内容外，它不知道要做什么。就像您第一次指导人类执行任务时一样，您越是以直截了当的方式向Claude解释您想要的确切内容，大模型的回应就会越好、越准确。\n",
    "\n",
    "当有疑问时，请遵循清晰 **提示的黄金法则：**\n",
    "\n",
    "- 向同事或朋友展示您的提示，让他们自己按照指示操作，看看是否能产生您想要的结果。如果他们感到困惑，大模型也会困惑。\n"
   ]
  },
  {
   "cell_type": "markdown",
   "metadata": {},
   "source": [
    "\n",
    "\n",
    "### 示例\n",
    "让我们以写诗这样的任务为例。（忽略任何音节不匹配 - 大语言模型在计算音节方面还不够好。）"
   ]
  },
  {
   "cell_type": "code",
   "execution_count": null,
   "metadata": {},
   "outputs": [],
   "source": [
    "# Prompt\n",
    "PROMPT = \"写一周关于爱,死亡和机器人的诗.\"\n",
    "\n",
    "# Print Claude's response\n",
    "print(get_completion(PROMPT))"
   ]
  },
  {
   "cell_type": "markdown",
   "metadata": {},
   "source": [
    "\n",
    "\n",
    "这个诗歌不错，但用户可能希望Claude直接进入诗歌，而不需要\"这是一首诗歌\"的序言。\n",
    "\n",
    "我们如何实现这一点？我们**直接要求**！"
   ]
  },
  {
   "cell_type": "code",
   "execution_count": 8,
   "metadata": {},
   "outputs": [
    {
     "name": "stdout",
     "output_type": "stream",
     "text": [
      "机器人之心\n",
      "爱与死亡交织\n",
      "永不停歇\n"
     ]
    }
   ],
   "source": [
    "# Prompt\n",
    "PROMPT = \"写一首关于爱,死亡和机器人的俳句。跳过序言；直接进入诗歌.\"\n",
    "\n",
    "# Print Claude's response\n",
    "print(get_completion(PROMPT))"
   ]
  },
  {
   "cell_type": "markdown",
   "metadata": {},
   "source": [
    "\n",
    "这是另一个例子。让我们问Claude谁是有史以来最好的篮球运动员。您可以看到下面虽然大模型列出了几个名字，但**它没有给出明确的\"最佳\"答案**。"
   ]
  },
  {
   "cell_type": "code",
   "execution_count": 9,
   "metadata": {},
   "outputs": [
    {
     "name": "stdout",
     "output_type": "stream",
     "text": [
      "这个问题没有一个标准答案,因为\"最好的篮球运动员\"这个称号是很主观的。不同的人可能会根据不同的标准来评判,比如得分能力、防守能力、领导力、影响力等等。\n",
      "\n",
      "一些公认的篮球历史上的伟大球星包括:\n",
      "\n",
      "1. 迈克尔·乔丹 - 被认为是篮球历史上最伟大的球员之一,拥有出色的全面技能和统治力。\n",
      "\n",
      "2. 勒布朗·詹姆斯 - 当代最出色的全能型球员之一,在得分、助攻、篮板等多方面都有出色表现。\n",
      "\n",
      "3. 卡里姆·阿卜杜勒-贾巴尔 - 篮球史上最伟大的中锋之一,拥有出色的得分能力和防守技巧。\n",
      "\n",
      "4. 科比·布莱恩特 - 被认为是乔丹之后最伟大的得分手之一,在职业生涯中取得了辉煌成就。\n",
      "\n",
      "5. 魔术师·约翰逊 - 被认为是最伟大的控球后卫之一,在助攻和领导力方面有着非凡表现。\n",
      "\n",
      "不过,最终谁是最好的球员,这需要根据个人的评判标准来决定。这是一个很有争议的话题。\n"
     ]
    }
   ],
   "source": [
    "# Prompt\n",
    "PROMPT = \"谁是最好的篮球运动员?\"\n",
    "\n",
    "# Print Claude's response\n",
    "print(get_completion(PROMPT))"
   ]
  },
  {
   "cell_type": "markdown",
   "metadata": {},
   "source": [
    "\n",
    "我们能让大模型直接决定一个最佳球员吗？是的！直接问就是了！"
   ]
  },
  {
   "cell_type": "code",
   "execution_count": 10,
   "metadata": {},
   "outputs": [
    {
     "name": "stdout",
     "output_type": "stream",
     "text": [
      "这是一个很有争议的问题,没有一个球员能够被公认为是有史以来最好的篮球运动员。不同的人会根据不同的标准和偏好来选择自己心目中的最佳球员。\n",
      "\n",
      "不过,如果我必须选择一个,我会选择迈克尔·乔丹。以下是我选择他的一些原因:\n",
      "\n",
      "1. 统治力和统治时间长。乔丹在NBA联盟统治了长达15个赛季,期间6次夺得总冠军,5次当选常规赛MVP,6次当选总决赛MVP。这种长期的统治地位是很少有球员能够达到的。\n",
      "\n",
      "2. 全面的技能。乔丹不仅是出色的得分手,还擅长防守、篮板、助攻等各方面技能,是一个真正的全能型球员。\n",
      "\n",
      "3. 影响力和号召力。乔丹不仅是一个伟大的球员,也是一个文化偶像,对篮球运动产生了巨大的影响力。\n",
      "\n",
      "当然,也有其他球员如詹姆斯、科比、卡里姆-阿卜杜尔-贾巴尔等也可以被认为是历史上最伟大的篮球运动员之一。但就我个人而言,乔丹仍然是我心目中的最佳选择。\n"
     ]
    }
   ],
   "source": [
    "# Prompt\n",
    "PROMPT = \"谁是有史以来最好的篮球运动员？是的，有不同的观点，但如果你绝对必须选择一个球员，会是谁？\"\n",
    "\n",
    "# Print Claude's response\n",
    "print(get_completion(PROMPT))"
   ]
  }
 ],
 "metadata": {
  "kernelspec": {
   "display_name": "base",
   "language": "python",
   "name": "python3"
  },
  "language_info": {
   "codemirror_mode": {
    "name": "ipython",
    "version": 3
   },
   "file_extension": ".py",
   "mimetype": "text/x-python",
   "name": "python",
   "nbconvert_exporter": "python",
   "pygments_lexer": "ipython3",
   "version": "3.13.2"
  }
 },
 "nbformat": 4,
 "nbformat_minor": 2
}
