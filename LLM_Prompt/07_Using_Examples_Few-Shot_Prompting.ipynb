{
 "cells": [
  {
   "cell_type": "markdown",
   "metadata": {},
   "source": [
    "# Chapter 7: 使用示例 (Few-Shot Prompting)\n",
    "\n",
    "- [Lesson](#lesson)\n",
    "- [Exercises](#exercises)\n",
    "- [Example Playground](#example-playground)\n",
    "\n",
    "\n",
    "## 设置\n",
    "运行以下设置单元格以加载您的 API 密钥并建立 get_completion 辅助函数。"
   ]
  },
  {
   "cell_type": "code",
   "execution_count": 4,
   "metadata": {},
   "outputs": [
    {
     "name": "stdout",
     "output_type": "stream",
     "text": [
      "Requirement already satisfied: anthropic in /opt/miniconda3/lib/python3.13/site-packages (0.57.1)\n",
      "Requirement already satisfied: anyio<5,>=3.5.0 in /opt/miniconda3/lib/python3.13/site-packages (from anthropic) (4.9.0)\n",
      "Requirement already satisfied: distro<2,>=1.7.0 in /opt/miniconda3/lib/python3.13/site-packages (from anthropic) (1.9.0)\n",
      "Requirement already satisfied: httpx<1,>=0.25.0 in /opt/miniconda3/lib/python3.13/site-packages (from anthropic) (0.28.1)\n",
      "Requirement already satisfied: jiter<1,>=0.4.0 in /opt/miniconda3/lib/python3.13/site-packages (from anthropic) (0.10.0)\n",
      "Requirement already satisfied: pydantic<3,>=1.9.0 in /opt/miniconda3/lib/python3.13/site-packages (from anthropic) (2.11.7)\n",
      "Requirement already satisfied: sniffio in /opt/miniconda3/lib/python3.13/site-packages (from anthropic) (1.3.1)\n",
      "Requirement already satisfied: typing-extensions<5,>=4.10 in /opt/miniconda3/lib/python3.13/site-packages (from anthropic) (4.12.2)\n",
      "Requirement already satisfied: idna>=2.8 in /opt/miniconda3/lib/python3.13/site-packages (from anyio<5,>=3.5.0->anthropic) (3.7)\n",
      "Requirement already satisfied: certifi in /opt/miniconda3/lib/python3.13/site-packages (from httpx<1,>=0.25.0->anthropic) (2025.4.26)\n",
      "Requirement already satisfied: httpcore==1.* in /opt/miniconda3/lib/python3.13/site-packages (from httpx<1,>=0.25.0->anthropic) (1.0.9)\n",
      "Requirement already satisfied: h11>=0.16 in /opt/miniconda3/lib/python3.13/site-packages (from httpcore==1.*->httpx<1,>=0.25.0->anthropic) (0.16.0)\n",
      "Requirement already satisfied: annotated-types>=0.6.0 in /opt/miniconda3/lib/python3.13/site-packages (from pydantic<3,>=1.9.0->anthropic) (0.6.0)\n",
      "Requirement already satisfied: pydantic-core==2.33.2 in /opt/miniconda3/lib/python3.13/site-packages (from pydantic<3,>=1.9.0->anthropic) (2.33.2)\n",
      "Requirement already satisfied: typing-inspection>=0.4.0 in /opt/miniconda3/lib/python3.13/site-packages (from pydantic<3,>=1.9.0->anthropic) (0.4.1)\n"
     ]
    }
   ],
   "source": [
    "!pip install anthropic\n",
    "\n",
    "# Import python's built-in regular expression library\n",
    "import re\n",
    "import anthropic\n",
    "\n",
    "# Retrieve the API_KEY & MODEL_NAME variables from the IPython store\n",
    "%store -r API_KEY\n",
    "%store -r MODEL_NAME\n",
    "\n",
    "client = anthropic.Anthropic(api_key=API_KEY)\n",
    "\n",
    "def get_completion(prompt: str, system_prompt=\"\", prefill=\"\"):\n",
    "    message = client.messages.create(\n",
    "        model=MODEL_NAME,\n",
    "        max_tokens=2000,\n",
    "        temperature=0.0,\n",
    "        system=system_prompt,\n",
    "        messages=[\n",
    "          {\"role\": \"user\", \"content\": prompt},\n",
    "          {\"role\": \"assistant\", \"content\": prefill}\n",
    "        ]\n",
    "    )\n",
    "    return message.content[0].text"
   ]
  },
  {
   "cell_type": "markdown",
   "metadata": {},
   "source": [
    "---\n",
    "\n",
    "## 课程\n",
    "给 Claude 提供你希望它如何表现（或不希望它如何表现）的示例非常有效，可以帮助你：\n",
    "- 得到正确的答案\n",
    "- 得到正确格式的答案\n",
    "这种提示方式也被称为 **“少样本提示（few shot prompting）”**。你可能还会遇到“零样本（zero-shot）”、“n-shot”或“一样本（one-shot）”这样的说法。这里的“shot”数量指的是在提示中使用了多少个示例。"
   ]
  },
  {
   "cell_type": "markdown",
   "metadata": {},
   "source": [
    "## 示例\n",
    "假设你是一名开发者，正在尝试构建一个能回答孩子问题的“家长机器人”。**LLM默认的回答非常正式和机械**。这会让孩子感到很失望"
   ]
  },
  {
   "cell_type": "code",
   "execution_count": 2,
   "metadata": {},
   "outputs": [
    {
     "name": "stdout",
     "output_type": "stream",
     "text": [
      "I don't actually have any information about whether Santa will bring you presents on Christmas. Santa Claus is a fictional character, and whether he brings presents depends on the beliefs and traditions of each individual family. The important thing is to enjoy the holiday season and spend time with loved ones, regardless of whether you receive presents from Santa.\n"
     ]
    }
   ],
   "source": [
    "# Prompt\n",
    "PROMPT = \"Will Santa bring me presents on Christmas?\"\n",
    "\n",
    "# Print Claude's response\n",
    "print(get_completion(PROMPT))"
   ]
  },
  {
   "cell_type": "markdown",
   "metadata": {},
   "source": [
    "你可以花时间描述你想要的语气，但其实只需**给 Claude 一些理想回复的示例会更简单**。"
   ]
  },
  {
   "cell_type": "code",
   "execution_count": 3,
   "metadata": {},
   "outputs": [
    {
     "name": "stdout",
     "output_type": "stream",
     "text": [
      "A: Yes, my dear, as long as you've been good this year, Santa will be sure to bring you presents on Christmas! Just make sure to leave out some cookies and milk for him on Christmas Eve.\n"
     ]
    }
   ],
   "source": [
    "# Prompt\n",
    "PROMPT = \"\"\"Please complete the conversation by writing the next line, speaking as \"A\".\n",
    "Q: Is the tooth fairy real?\n",
    "A: Of course, sweetie. Wrap up your tooth and put it under your pillow tonight. There might be something waiting for you in the morning.\n",
    "Q: Will Santa bring me presents on Christmas?\"\"\"\n",
    "\n",
    "# Print Claude's response\n",
    "print(get_completion(PROMPT))"
   ]
  },
  {
   "cell_type": "markdown",
   "metadata": {},
   "source": [
    "\n",
    "在下面的格式化示例中，我们可以一步步地引导LLM 按照一套格式化指令来提取姓名和职业，并按我们想要的方式进行格式化，或者我们也可以直接**给 LLM 一些格式正确的示例**，让 LLM 自行类推。请注意在 assistant 轮次中使用 <individuals>，这样可以让 LLM 从正确的起点开始。"
   ]
  },
  {
   "cell_type": "code",
   "execution_count": 6,
   "metadata": {},
   "outputs": [
    {
     "name": "stdout",
     "output_type": "stream",
     "text": [
      "--------------------------- Full prompt with variable substutions ---------------------------\n",
      "USER TURN:\n",
      "“银雾谷”是一个迷人的村庄，这里居住着一群非凡的人物。\n",
      "其中有利亚姆·帕特尔医生，一位神经外科医生，他在地区医疗中心革新了外科手术技术。\n",
      "奥利维亚·陈是一位创新型建筑师，她用可持续且令人惊叹的设计改变了村庄的风貌。\n",
      "当地剧院里回荡着伊桑·科瓦奇的迷人交响乐，他是一位受过专业训练的音乐家和作曲家。\n",
      "伊莎贝拉·托雷斯是一位自学成才的厨师，热衷于使用本地食材，她的农场到餐桌餐厅成为美食爱好者必去的目的地，掀起了一股美食热潮。\n",
      "这些杰出的人物，各自拥有独特的才华，共同为银雾谷的多彩生活增添了光彩。\n",
      "<individuals>\n",
      "利亚姆·帕特尔医生 [神经外科医生]\n",
      "奥利维亚·陈 [建筑师]\n",
      "伊桑·科瓦奇 [音乐家和作曲家]\n",
      "伊莎贝拉·托雷斯 [厨师]\n",
      "</individuals>\n",
      "在小镇的中心，主厨奥利弗·汉密尔顿通过他的农场到餐桌餐厅“绿盘”彻底改变了当地的美食格局。奥利弗致力于采购本地有机食材，这让他的餐厅赢得了美食评论家和当地人的一致好评。\n",
      "就在街道的尽头，你会发现“河畔林地图书馆”，馆长伊丽莎白·陈一直努力为所有人营造一个温馨包容的空间。她扩展了图书馆的服务，并为儿童设立了阅读项目，对小镇的识字率产生了重大影响。\n",
      "漫步在迷人的小镇广场，你会被墙上美丽的壁画所吸引。这些杰作出自著名艺术家伊莎贝拉·托雷斯之手，她擅长捕捉河畔林地的精髓，为小镇注入了生机。\n",
      "河畔林地的体育成就同样值得一提，这要归功于前奥运游泳运动员、现任教练马库斯·詹金斯。马库斯利用自己的经验和热情训练小镇的青少年，带领河畔林地游泳队多次获得地区冠军。\n",
      "<individuals>\n",
      "奥利弗·汉密尔顿 [厨师]\n",
      "伊丽莎白·陈 [图书馆馆长]\n",
      "伊莎贝拉·托雷斯 [艺术家]\n",
      "马库斯·詹金斯 [教练]\n",
      "</individuals>\n",
      "橡树谷是一个迷人的小镇，这里有三位杰出人物，他们的技能和奉献精神对社区产生了深远影响。\n",
      "在小镇热闹的农贸市场，你会见到劳拉·西蒙斯，一位热情的有机农民，以美味且可持续种植的农产品闻名。她致力于推广健康饮食，激励小镇居民拥抱更环保的生活方式。\n",
      "在橡树谷社区中心，凯文·阿尔瓦雷斯是一位技艺高超的舞蹈教练，他让各年龄段的人都感受到了舞蹈的乐趣。他包容的舞蹈课程促进了居民间的团结和自我表达，丰富了当地的艺术氛围。\n",
      "最后，瑞秋·奥康纳是一位不知疲倦的志愿者，投身于各种慈善事业。她致力于改善他人生活，为橡树谷营造了强烈的社区归属感。\n",
      "凭借他们独特的才华和坚定的奉献精神，劳拉、凯文和瑞秋已经融入橡树谷的生活，帮助小镇变得更加充满活力和繁荣。\n",
      "\n",
      "ASSISTANT TURN:\n",
      "<individuals>\n",
      "\n",
      "------------------------------------- Claude's response -------------------------------------\n",
      "\n",
      "劳拉·西蒙斯 [有机农民]\n",
      "凯文·阿尔瓦雷斯 [舞蹈教练]\n",
      "瑞秋·奥康纳 [志愿者]\n",
      "</individuals>\n",
      "\n",
      "这个小镇确实拥有一群非凡的人物,他们各自在不同领域发挥自己的才能,为社区带来了积极的影响。\n",
      "\n",
      "利亚姆·帕特尔医生在医疗领域做出了创新,奥利维亚·陈的可持续建筑设计改变了村庄的面貌,伊桑·科瓦奇的音乐作品丰富了当地的文化生活,而伊莎贝拉·托雷斯则凭借自己的烹饪技艺掀起了一股美食热潮。\n",
      "\n",
      "在小镇的中心,奥利弗·汉密尔顿通过他的农场到餐桌餐厅\"绿盘\"彻底改变了当地的美食格局。伊丽莎白·陈努力为所有人营造一个温馨包容的图书馆空间,而伊莎贝拉·托雷斯的壁画为小镇注入了生机。\n",
      "\n",
      "在橡树谷,劳拉·西蒙斯推广健康饮食,凯文·阿尔瓦雷斯让各年龄段的人都感受到了舞蹈的乐趣,瑞秋·奥康纳则致力于改善他人生活,为小镇营造了强烈的社区归属感。\n",
      "\n",
      "这些杰出人物的才华和奉献精神,无疑为这个小镇增添了独特的魅力,让它成为一个充满活力和繁荣的社区。\n"
     ]
    }
   ],
   "source": [
    "# Prompt template with a placeholder for the variable content\n",
    "PROMPT = \"\"\"“银雾谷”是一个迷人的村庄，这里居住着一群非凡的人物。\n",
    "其中有利亚姆·帕特尔医生，一位神经外科医生，他在地区医疗中心革新了外科手术技术。\n",
    "奥利维亚·陈是一位创新型建筑师，她用可持续且令人惊叹的设计改变了村庄的风貌。\n",
    "当地剧院里回荡着伊桑·科瓦奇的迷人交响乐，他是一位受过专业训练的音乐家和作曲家。\n",
    "伊莎贝拉·托雷斯是一位自学成才的厨师，热衷于使用本地食材，她的农场到餐桌餐厅成为美食爱好者必去的目的地，掀起了一股美食热潮。\n",
    "这些杰出的人物，各自拥有独特的才华，共同为银雾谷的多彩生活增添了光彩。\n",
    "<individuals>\n",
    "利亚姆·帕特尔医生 [神经外科医生]\n",
    "奥利维亚·陈 [建筑师]\n",
    "伊桑·科瓦奇 [音乐家和作曲家]\n",
    "伊莎贝拉·托雷斯 [厨师]\n",
    "</individuals>\n",
    "在小镇的中心，主厨奥利弗·汉密尔顿通过他的农场到餐桌餐厅“绿盘”彻底改变了当地的美食格局。奥利弗致力于采购本地有机食材，这让他的餐厅赢得了美食评论家和当地人的一致好评。\n",
    "就在街道的尽头，你会发现“河畔林地图书馆”，馆长伊丽莎白·陈一直努力为所有人营造一个温馨包容的空间。她扩展了图书馆的服务，并为儿童设立了阅读项目，对小镇的识字率产生了重大影响。\n",
    "漫步在迷人的小镇广场，你会被墙上美丽的壁画所吸引。这些杰作出自著名艺术家伊莎贝拉·托雷斯之手，她擅长捕捉河畔林地的精髓，为小镇注入了生机。\n",
    "河畔林地的体育成就同样值得一提，这要归功于前奥运游泳运动员、现任教练马库斯·詹金斯。马库斯利用自己的经验和热情训练小镇的青少年，带领河畔林地游泳队多次获得地区冠军。\n",
    "<individuals>\n",
    "奥利弗·汉密尔顿 [厨师]\n",
    "伊丽莎白·陈 [图书馆馆长]\n",
    "伊莎贝拉·托雷斯 [艺术家]\n",
    "马库斯·詹金斯 [教练]\n",
    "</individuals>\n",
    "橡树谷是一个迷人的小镇，这里有三位杰出人物，他们的技能和奉献精神对社区产生了深远影响。\n",
    "在小镇热闹的农贸市场，你会见到劳拉·西蒙斯，一位热情的有机农民，以美味且可持续种植的农产品闻名。她致力于推广健康饮食，激励小镇居民拥抱更环保的生活方式。\n",
    "在橡树谷社区中心，凯文·阿尔瓦雷斯是一位技艺高超的舞蹈教练，他让各年龄段的人都感受到了舞蹈的乐趣。他包容的舞蹈课程促进了居民间的团结和自我表达，丰富了当地的艺术氛围。\n",
    "最后，瑞秋·奥康纳是一位不知疲倦的志愿者，投身于各种慈善事业。她致力于改善他人生活，为橡树谷营造了强烈的社区归属感。\n",
    "凭借他们独特的才华和坚定的奉献精神，劳拉、凯文和瑞秋已经融入橡树谷的生活，帮助小镇变得更加充满活力和繁荣。\"\"\"\n",
    "\n",
    "# Prefill for Claude's response\n",
    "PREFILL = \"<individuals>\"\n",
    "\n",
    "# Print Claude's response\n",
    "print(\"--------------------------- Full prompt with variable substutions ---------------------------\")\n",
    "print(\"USER TURN:\")\n",
    "print(PROMPT)\n",
    "print(\"\\nASSISTANT TURN:\")\n",
    "print(PREFILL)\n",
    "print(\"\\n------------------------------------- Claude's response -------------------------------------\")\n",
    "print(get_completion(PROMPT, prefill=PREFILL))"
   ]
  },
  {
   "cell_type": "markdown",
   "metadata": {},
   "source": [
    "---\n",
    "\n",
    "## 练习\n",
    "- [Exercise 7.1 - Email Formatting via Examples](#exercise-71---email-formatting-via-examples)"
   ]
  },
  {
   "cell_type": "markdown",
   "metadata": {},
   "source": [
    "### Exercise 7.1 - 通过示例进行邮件格式化\n",
    "我们将重新做一次练习 6.2，但这一次，我们要编辑 PROMPT，使用“少样本”示例（即邮件+正确分类和格式化），让 Claude 输出正确的答案。我们希望 Claude 输出的最后一个字母是类别的字母。\n",
    "如果你忘记每封邮件对应哪个字母分类，请参考 EMAILS 列表中每封邮件旁边的注释。\n",
    "请记住，这些是邮件的分类：\n",
    "\n",
    "Remember that these are the categories for the emails:\t\t\t\t\t\t\t\t\t\t\n",
    "- (A) Pre-sale question\n",
    "- (B) Broken or defective item\n",
    "- (C) Billing question\n",
    "- (D) Other (please explain)\t\t\t\t\t\t\t\t"
   ]
  },
  {
   "cell_type": "code",
   "execution_count": null,
   "metadata": {},
   "outputs": [],
   "source": [
    "# Prompt template with a placeholder for the variable content\n",
    "PROMPT = \"\"\"\n",
    "Please classify emails into the following categories {email}\n",
    "\n",
    "\"\"\"\n",
    "\n",
    "# Prefill for Claude's response\n",
    "PREFILL = \"\"\n",
    "\n",
    "# Variable content stored as a list\n",
    "EMAILS = [\n",
    "    \"Hi -- My Mixmaster4000 is producing a strange noise when I operate it. It also smells a bit smoky and plasticky, like burning electronics.  I need a replacement.\", # (B) Broken or defective item\n",
    "    \"Can I use my Mixmaster 4000 to mix paint, or is it only meant for mixing food?\", # (A) Pre-sale question OR (D) Other (please explain)\n",
    "    \"I HAVE BEEN WAITING 4 MONTHS FOR MY MONTHLY CHARGES TO END AFTER CANCELLING!!  WTF IS GOING ON???\", # (C) Billing question\n",
    "    \"How did I get here I am not good with computer.  Halp.\" # (D) Other (please explain)\n",
    "]\n",
    "\n",
    "# Correct categorizations stored as a list of lists to accommodate the possibility of multiple correct categorizations per email\n",
    "ANSWERS = [\n",
    "    [\"B\"],\n",
    "    [\"A\",\"D\"],\n",
    "    [\"C\"],\n",
    "    [\"D\"]\n",
    "]\n",
    "\n",
    "# Iterate through list of emails\n",
    "for i,email in enumerate(EMAILS):\n",
    "    \n",
    "    # Substitute the email text into the email placeholder variable\n",
    "    formatted_prompt = PROMPT.format(email=email)\n",
    "   \n",
    "    # Get Claude's response\n",
    "    response = get_completion(formatted_prompt, prefill=PREFILL)\n",
    "\n",
    "    # Grade Claude's response\n",
    "    grade = any([bool(re.search(ans, response[-1])) for ans in ANSWERS[i]])\n",
    "    \n",
    "    # Print Claude's response\n",
    "    print(\"--------------------------- Full prompt with variable substutions ---------------------------\")\n",
    "    print(\"USER TURN\")\n",
    "    print(formatted_prompt)\n",
    "    print(\"\\nASSISTANT TURN\")\n",
    "    print(PREFILL)\n",
    "    print(\"\\n------------------------------------- Claude's response -------------------------------------\")\n",
    "    print(response)\n",
    "    print(\"\\n------------------------------------------ GRADING ------------------------------------------\")\n",
    "    print(\"This exercise has been correctly solved:\", grade, \"\\n\\n\\n\\n\\n\\n\")"
   ]
  },
  {
   "cell_type": "markdown",
   "metadata": {},
   "source": [
    "❓ If you want a hint, run the cell below!\n",
    "\n",
    "你需要为 Claude 编写一些示例邮件并进行分类（格式要与您期望的输出完全一致）。有多种方法可以实现。以下是一些指导建议：\n",
    "1. 尽量至少提供两封示例邮件。Claude 并不需要每个类别都有示例，示例内容也不需要很长。为你认为较难分类的类别提供示例会更有帮助（在第6章练习1结尾处已经让你思考过这个问题）。XML 标签可以帮助你将示例与提示的其他部分分开，虽然这不是必须的。\n",
    "2. 确保你的示例答案格式与希望 Claude 使用的格式完全一致，这样 Claude 才能模仿这种格式。该格式应确保 Claude 的答案以类别字母结尾。无论你把 {email} 占位符放在哪里，都要确保它的格式与示例邮件完全一致。\n",
    "3. 确保在提示中仍然列出了所有分类，否则 Claude 不知道要参考哪些分类，同时也要保留 {email} 作为替换用的占位符。"
   ]
  },
  {
   "cell_type": "markdown",
   "metadata": {},
   "source": [
    "Still stuck? Run the cell below for an example solution."
   ]
  },
  {
   "cell_type": "code",
   "execution_count": null,
   "metadata": {},
   "outputs": [],
   "source": [
    "from hints import exercise_7_1_solution; print(exercise_7_1_solution)"
   ]
  },
  {
   "cell_type": "markdown",
   "metadata": {},
   "source": [
    "### 恭喜！\n",
    "如果您已经完成了到目前为止的所有练习，您就可以进入下一章了。祝您提示工程愉快"
   ]
  }
 ],
 "metadata": {
  "kernelspec": {
   "display_name": "base",
   "language": "python",
   "name": "python3"
  },
  "language_info": {
   "codemirror_mode": {
    "name": "ipython",
    "version": 3
   },
   "file_extension": ".py",
   "mimetype": "text/x-python",
   "name": "python",
   "nbconvert_exporter": "python",
   "pygments_lexer": "ipython3",
   "version": "3.13.2"
  }
 },
 "nbformat": 4,
 "nbformat_minor": 2
}
