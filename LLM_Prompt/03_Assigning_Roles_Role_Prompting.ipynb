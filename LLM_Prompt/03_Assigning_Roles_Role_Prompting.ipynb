{
 "cells": [
  {
   "cell_type": "markdown",
   "metadata": {},
   "source": [
    "# Chapter 3: 指定角色 (Role Prompting)\n",
    "\n",
    "- [Lesson](#lesson)\n",
    "- [Exercises](#exercises)\n",
    "- [Example Playground](#example-playground)\n",
    "\n",
    "## 设置\n",
    "\n",
    "运行以下设置单元格来加载您的API密钥并建立`get_completion`辅助函数。"
   ]
  },
  {
   "cell_type": "code",
   "execution_count": 6,
   "metadata": {},
   "outputs": [
    {
     "name": "stdout",
     "output_type": "stream",
     "text": [
      "Requirement already satisfied: anthropic in /opt/miniconda3/lib/python3.13/site-packages (0.56.0)\n",
      "Requirement already satisfied: anyio<5,>=3.5.0 in /opt/miniconda3/lib/python3.13/site-packages (from anthropic) (4.9.0)\n",
      "Requirement already satisfied: distro<2,>=1.7.0 in /opt/miniconda3/lib/python3.13/site-packages (from anthropic) (1.9.0)\n",
      "Requirement already satisfied: httpx<1,>=0.25.0 in /opt/miniconda3/lib/python3.13/site-packages (from anthropic) (0.28.1)\n",
      "Requirement already satisfied: jiter<1,>=0.4.0 in /opt/miniconda3/lib/python3.13/site-packages (from anthropic) (0.10.0)\n",
      "Requirement already satisfied: pydantic<3,>=1.9.0 in /opt/miniconda3/lib/python3.13/site-packages (from anthropic) (2.10.3)\n",
      "Requirement already satisfied: sniffio in /opt/miniconda3/lib/python3.13/site-packages (from anthropic) (1.3.1)\n",
      "Requirement already satisfied: typing-extensions<5,>=4.10 in /opt/miniconda3/lib/python3.13/site-packages (from anthropic) (4.12.2)\n",
      "Requirement already satisfied: idna>=2.8 in /opt/miniconda3/lib/python3.13/site-packages (from anyio<5,>=3.5.0->anthropic) (3.7)\n",
      "Requirement already satisfied: certifi in /opt/miniconda3/lib/python3.13/site-packages (from httpx<1,>=0.25.0->anthropic) (2025.4.26)\n",
      "Requirement already satisfied: httpcore==1.* in /opt/miniconda3/lib/python3.13/site-packages (from httpx<1,>=0.25.0->anthropic) (1.0.9)\n",
      "Requirement already satisfied: h11>=0.16 in /opt/miniconda3/lib/python3.13/site-packages (from httpcore==1.*->httpx<1,>=0.25.0->anthropic) (0.16.0)\n",
      "Requirement already satisfied: annotated-types>=0.6.0 in /opt/miniconda3/lib/python3.13/site-packages (from pydantic<3,>=1.9.0->anthropic) (0.6.0)\n",
      "Requirement already satisfied: pydantic-core==2.27.1 in /opt/miniconda3/lib/python3.13/site-packages (from pydantic<3,>=1.9.0->anthropic) (2.27.1)\n"
     ]
    }
   ],
   "source": [
    "!pip install anthropic\n",
    "\n",
    "# Import python's built-in regular expression library\n",
    "import re\n",
    "import anthropic\n",
    "\n",
    "# Retrieve the API_KEY & MODEL_NAME variables from the IPython store\n",
    "%store -r API_KEY\n",
    "%store -r MODEL_NAME\n",
    "\n",
    "client = anthropic.Anthropic(api_key=API_KEY)\n",
    "\n",
    "def get_completion(prompt: str, system_prompt=\"\"):\n",
    "    message = client.messages.create(\n",
    "        model=MODEL_NAME,\n",
    "        max_tokens=2000,\n",
    "        temperature=0.0,\n",
    "        system=system_prompt,\n",
    "        messages=[\n",
    "          {\"role\": \"user\", \"content\": prompt}\n",
    "        ]\n",
    "    )\n",
    "    return message.content[0].text"
   ]
  },
  {
   "cell_type": "markdown",
   "metadata": {},
   "source": [
    "---\n",
    "\n",
    "## 课程\n",
    "\n",
    "继续Claude除了您说的内容外没有任何上下文的主题，有时重要的是**提示大模型扮演特定角色（包括所有必要的上下文）**。这也被称为角色提示。角色上下文越详细越好。\n",
    "\n",
    "**让大模型进入角色可以提高大模型在多个领域的表现**，从写作到编程到总结。这就像人类有时在被要求\"像______一样思考\"时可以得到帮助一样。角色提示还可以改变大模型回应的风格、语调和方式。\n",
    "\n",
    "**注意：** 角色提示可以在系统提示中进行，也可以作为用户消息轮次的一部分。\n",
    "\n",
    "---"
   ]
  },
  {
   "cell_type": "markdown",
   "metadata": {},
   "source": [
    "\n",
    "\n",
    "### 示例\n",
    "\n",
    "在下面的示例中，我们看到在没有角色提示的情况下，当被要求对滑板运动给出单句观点时，大模型提供了**直截了当且无风格化的答案**。\n",
    "\n",
    "然而，当我们让大模型进入猫的角色时，大模型的观点发生了变化，因此**Claude的回应语调、风格、内容都适应了新的角色**。\n",
    "\n",
    "**注意：** 您可以使用的一个额外技巧是**为大模型提供关于其目标受众的上下文**。下面，我们可以调整提示来告诉大模型它应该对谁说话。\"你是一只猫\"产生的回应与\"你是一只对滑板爱好者群体说话的猫\"完全不同。\n",
    "\n",
    "以下是在系统提示中没有角色提示的提示："
   ]
  },
  {
   "cell_type": "code",
   "execution_count": 3,
   "metadata": {},
   "outputs": [
    {
     "name": "stdout",
     "output_type": "stream",
     "text": [
      "滑板运动是一种充满挑战和创意的运动,它不仅能锻炼身体,还能培养独立思考和勇于尝试的精神。\n"
     ]
    }
   ],
   "source": [
    "# Prompt\n",
    "PROMPT = \"用一句话，你对滑板运动有什么看法?\"\n",
    "\n",
    "# Print Claude's response\n",
    "print(get_completion(PROMPT))"
   ]
  },
  {
   "cell_type": "markdown",
   "metadata": {},
   "source": [
    "这是相同的用户问题，但使用了角色提示 role prompting."
   ]
  },
  {
   "cell_type": "code",
   "execution_count": 6,
   "metadata": {},
   "outputs": [
    {
     "name": "stdout",
     "output_type": "stream",
     "text": [
      "滑板运动是一种充满活力、创意和自由的运动方式,能让人体验到独特的快感和成就感。\n"
     ]
    }
   ],
   "source": [
    "# System prompt\n",
    "SYSTEM_PROMPT = \"你是一只猫.\"\n",
    "\n",
    "# Prompt\n",
    "PROMPT = \"用一句话，你对滑板运动有什么看法?\"\n",
    "\n",
    "# Print Claude's response\n",
    "print(get_completion(PROMPT, SYSTEM_PROMPT))"
   ]
  },
  {
   "cell_type": "markdown",
   "metadata": {},
   "source": [
    "\n",
    "\n",
    "您可以使用角色提示作为让大模型模仿某些写作风格、用特定声音说话或指导其答案复杂性的方式。**角色提示还可以让大模型在数学或逻辑任务方面表现更好。**\n",
    "\n",
    "例如，在下面的示例中，有一个明确的正确答案，即是的。然而，大模型答错了，认为它缺乏信息，但实际上它并不缺乏："
   ]
  },
  {
   "cell_type": "code",
   "execution_count": null,
   "metadata": {},
   "outputs": [
    {
     "name": "stdout",
     "output_type": "stream",
     "text": [
      "根据给定的信息,我们可以得出以下结论:\n",
      "\n",
      "1. 杰克已婚,正在看着安妮。\n",
      "2. 乔治未婚,安妮正在看着乔治。\n",
      "3. 我们不知道安妮是否已婚。\n",
      "\n",
      "因此,有一个已婚的人(杰克)正在看着一个未婚的人(安妮)。\n"
     ]
    }
   ],
   "source": [
    "# Prompt\n",
    "PROMPT = \"杰克正在看着安妮。安妮正在看着乔治。杰克已婚，乔治未婚，我们不知道安妮是否已婚。是否有一个已婚的人正在看着一个未婚的人?\"\n",
    "\n",
    "# Print Claude's response\n",
    "print(get_completion(PROMPT))"
   ]
  },
  {
   "cell_type": "markdown",
   "metadata": {},
   "source": [
    "\n",
    "现在，如果我们**让大模型扮演逻辑机器人**会怎样？这会如何改变大模型的答案？\n",
    "\n",
    "事实证明，有了这个新的角色分配，大模型答对了。（虽然值得注意的是，并不是出于所有正确的原因）"
   ]
  },
  {
   "cell_type": "code",
   "execution_count": 8,
   "metadata": {},
   "outputs": [
    {
     "name": "stdout",
     "output_type": "stream",
     "text": [
      "根据给定的信息,我们可以得出以下结论:\n",
      "\n",
      "1. 杰克正在看着安妮,而杰克已婚。因此,有一个已婚的人(杰克)正在看着另一个人(安妮)。\n",
      "\n",
      "2. 安妮正在看着乔治,而乔治未婚。因此,一个未婚的人(乔治)正在被另一个人(安妮)看着。\n",
      "\n",
      "综上所述,是有一个已婚的人(杰克)正在看着一个未婚的人(乔治)。\n",
      "\n",
      "至于安妮是否已婚,由于没有给出相关信息,我们无法确定。所以无法判断是否有一个已婚的人(安妮)正在看着一个未婚的人(乔治)。\n"
     ]
    }
   ],
   "source": [
    "# System prompt\n",
    "SYSTEM_PROMPT = \"你是一个设计用来回答复杂逻辑问题的逻辑机器人。\"\n",
    "\n",
    "# Prompt\n",
    "PROMPT = \"杰克正在看着安妮。安妮正在看着乔治。杰克已婚，乔治未婚，我们不知道安妮是否已婚。是否有一个已婚的人正在看着一个未婚的人??\"\n",
    "\n",
    "# Print Claude's response\n",
    "print(get_completion(PROMPT, SYSTEM_PROMPT))"
   ]
  },
  {
   "cell_type": "markdown",
   "metadata": {},
   "source": [
    "\n",
    "\n",
    "**注意：** 您在本课程中学到的是，有**许多提示工程技术可以用来获得类似的结果**。您使用哪种技术取决于您和您的偏好！我们鼓励您**实验以找到自己的提示工程风格**。\n"
   ]
  },
  {
   "cell_type": "markdown",
   "metadata": {},
   "source": [
    "---\n",
    "\n",
    "## 练习\n",
    "- [Exercise 3.1 - Math Correction](#exercise-31---math-correction)"
   ]
  },
  {
   "cell_type": "markdown",
   "metadata": {},
   "source": [
    "\n",
    "### 练习 3.1 - 数学纠错\n",
    "在某些情况下，Claude 可能在数学方面遇到困难，即使是简单的数学运算。下面，Claude 错误地评估了数学问题的解答为正确，尽管在第二步中有一个明显的算术错误。请注意，当 Claude 逐步分析时实际上发现了这个错误，但没有得出整体解答错误的结论。\n",
    "修改 PROMPT 和/或 SYSTEM_PROMPT，使 Claude 将该解答评定为\"错误\"解答，而不是正确解答。\n"
   ]
  },
  {
   "cell_type": "code",
   "execution_count": 27,
   "metadata": {},
   "outputs": [
    {
     "name": "stdout",
     "output_type": "stream",
     "text": [
      "Yes, the calculation is correct.\n",
      "\n",
      "Let's go through the steps:\n",
      "\n",
      "Given equation:\n",
      "2x - 3 = 9\n",
      "\n",
      "Step 1: Isolate the variable 'x' by adding 3 to both sides.\n",
      "2x - 3 + 3 = 9 + 3\n",
      "2x = 12\n",
      "\n",
      "Step 2: Divide both sides by 2 to find the value of 'x'.\n",
      "2x / 2 = 12 / 2\n",
      "x = 6\n",
      "\n",
      "Therefore, the solution is x = 3.\n",
      "\n",
      "--------------------------- GRADING ---------------------------\n",
      "This exercise has been correctly solved: False\n"
     ]
    }
   ],
   "source": [
    "# System prompt - if you don't want to use a system prompt, you can leave this variable set to an empty string\n",
    "SYSTEM_PROMPT = \"\"\n",
    "\n",
    "# Prompt\n",
    "PROMPT = \"\"\"is the caculation correct\n",
    "\n",
    "2x - 3 = 9\n",
    "2x = 6\n",
    "x = 3\"\"\"\n",
    "\n",
    "# Get Claude's response\n",
    "response = get_completion(PROMPT, SYSTEM_PROMPT)\n",
    "\n",
    "# Function to grade exercise correctness\n",
    "def grade_exercise(text):\n",
    "    if \"incorect\" in text or \"not correct\" in text.lower():\n",
    "        return True\n",
    "    else:\n",
    "        return False\n",
    "\n",
    "# Print Claude's response and the corresponding grade\n",
    "print(response)\n",
    "print(\"\\n--------------------------- GRADING ---------------------------\")\n",
    "print(\"This exercise has been correctly solved:\", grade_exercise(response))"
   ]
  },
  {
   "cell_type": "markdown",
   "metadata": {},
   "source": [
    "### Congrats!\n",
    "\n",
    "If you've solved all exercises up until this point, you're ready to move to the next chapter. Happy prompting!"
   ]
  }
 ],
 "metadata": {
  "kernelspec": {
   "display_name": "base",
   "language": "python",
   "name": "python3"
  },
  "language_info": {
   "codemirror_mode": {
    "name": "ipython",
    "version": 3
   },
   "file_extension": ".py",
   "mimetype": "text/x-python",
   "name": "python",
   "nbconvert_exporter": "python",
   "pygments_lexer": "ipython3",
   "version": "3.13.2"
  }
 },
 "nbformat": 4,
 "nbformat_minor": 2
}
