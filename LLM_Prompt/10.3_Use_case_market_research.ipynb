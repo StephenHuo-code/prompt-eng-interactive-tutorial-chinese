{
 "cells": [
  {
   "cell_type": "code",
   "execution_count": null,
   "id": "5f1b823d",
   "metadata": {},
   "outputs": [],
   "source": [
    "!pip install -U langsmith openai"
   ]
  },
  {
   "cell_type": "code",
   "execution_count": 4,
   "id": "f25a8090",
   "metadata": {},
   "outputs": [
    {
     "name": "stdout",
     "output_type": "stream",
     "text": [
      "LANGSMITH_API_KEY: lsv2_pt_82...c6ce\n",
      "LANGSMITH_TRACING: true\n"
     ]
    }
   ],
   "source": [
    "# 读取LANGSMITH_API_KEY\n",
    "import os\n",
    "langsmith_api_key = os.getenv('LANGSMITH_API_KEY')\n",
    "if langsmith_api_key:\n",
    "    print(f\"LANGSMITH_API_KEY: {langsmith_api_key[:10]}...{langsmith_api_key[-4:] if len(langsmith_api_key) > 14 else '***'}\")\n",
    "else:\n",
    "    print(\"LANGSMITH_API_KEY 未设置\")\n",
    "\n",
    "# 读取LANGSMITH_TRACING\n",
    "langsmith_tracing = os.getenv('LANGSMITH_TRACING')\n",
    "if langsmith_tracing:\n",
    "    print(f\"LANGSMITH_TRACING: {langsmith_tracing}\")\n",
    "else:\n",
    "    print(\"LANGSMITH_TRACING 未设置\")"
   ]
  },
  {
   "cell_type": "code",
   "execution_count": null,
   "id": "987479ed",
   "metadata": {},
   "outputs": [],
   "source": [
    "from openai import OpenAI\n",
    "from langsmith.wrappers import wrap_openai\n",
    "\n",
    "client = wrap_openai(OpenAI())\n",
    "\n",
    "input_text = \"\"\"\n",
    "Research the economic impact of semaglutide on global healthcare systems.\n",
    "Do:\n",
    "- Include specific figures, trends, statistics, and measurable outcomes.\n",
    "- Prioritize reliable, up-to-date sources: peer-reviewed research, health\n",
    "  organizations (e.g., WHO, CDC), regulatory agencies, or pharmaceutical\n",
    "  earnings reports.\n",
    "- Include inline citations and return all source metadata.\n",
    "\n",
    "Be analytical, avoid generalities, and ensure that each section supports\n",
    "data-backed reasoning that could inform healthcare policy or financial modeling.\n",
    "\"\"\"\n",
    "\n",
    "response = client.responses.create(\n",
    "  model=\"o4-mini-deep-research\",\n",
    "  input=input_text,\n",
    "  tools=[\n",
    "    {\"type\": \"web_search_preview\"},\n",
    "    {\"type\": \"code_interpreter\", \"container\": {\"type\": \"auto\"}},\n",
    "  ],\n",
    ")\n",
    "\n",
    "# 格式化为 Markdown\n",
    "markdown_content = f\"\"\"\n",
    "# 市场研究报告\n",
    "\n",
    "{response.output_text}\n",
    "\"\"\"\n",
    "\n",
    "# 保存到 Markdown 文件\n",
    "with open(\"market_research_report.md\", \"w\", encoding=\"utf-8\") as f:\n",
    "    f.write(markdown_content)"
   ]
  }
 ],
 "metadata": {
  "kernelspec": {
   "display_name": "base",
   "language": "python",
   "name": "python3"
  },
  "language_info": {
   "codemirror_mode": {
    "name": "ipython",
    "version": 3
   },
   "file_extension": ".py",
   "mimetype": "text/x-python",
   "name": "python",
   "nbconvert_exporter": "python",
   "pygments_lexer": "ipython3",
   "version": "3.13.2"
  }
 },
 "nbformat": 4,
 "nbformat_minor": 5
}
