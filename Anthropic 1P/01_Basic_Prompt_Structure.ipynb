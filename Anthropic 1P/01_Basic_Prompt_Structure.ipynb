{
 "cells": [
  {
   "cell_type": "markdown",
   "metadata": {},
   "source": [
    "# Chapter 1: 基础的提示词结构\n",
    "\n",
    "- [Lesson](#lesson)\n",
    "- [Exercises](#exercises)\n",
    "- [Example Playground](#example-playground)\n",
    "\n",
    "\n",
    "## 设置\n",
    "\n",
    "运行以下设置单元格以加载您的API密钥并建立`get_completion`辅助函数。"
   ]
  },
  {
   "cell_type": "code",
   "execution_count": 1,
   "metadata": {},
   "outputs": [
    {
     "name": "stdout",
     "output_type": "stream",
     "text": [
      "Requirement already satisfied: anthropic in /opt/miniconda3/lib/python3.13/site-packages (0.56.0)\n",
      "Requirement already satisfied: anyio<5,>=3.5.0 in /opt/miniconda3/lib/python3.13/site-packages (from anthropic) (4.9.0)\n",
      "Requirement already satisfied: distro<2,>=1.7.0 in /opt/miniconda3/lib/python3.13/site-packages (from anthropic) (1.9.0)\n",
      "Requirement already satisfied: httpx<1,>=0.25.0 in /opt/miniconda3/lib/python3.13/site-packages (from anthropic) (0.28.1)\n",
      "Requirement already satisfied: jiter<1,>=0.4.0 in /opt/miniconda3/lib/python3.13/site-packages (from anthropic) (0.10.0)\n",
      "Requirement already satisfied: pydantic<3,>=1.9.0 in /opt/miniconda3/lib/python3.13/site-packages (from anthropic) (2.10.3)\n",
      "Requirement already satisfied: sniffio in /opt/miniconda3/lib/python3.13/site-packages (from anthropic) (1.3.1)\n",
      "Requirement already satisfied: typing-extensions<5,>=4.10 in /opt/miniconda3/lib/python3.13/site-packages (from anthropic) (4.12.2)\n",
      "Requirement already satisfied: idna>=2.8 in /opt/miniconda3/lib/python3.13/site-packages (from anyio<5,>=3.5.0->anthropic) (3.7)\n",
      "Requirement already satisfied: certifi in /opt/miniconda3/lib/python3.13/site-packages (from httpx<1,>=0.25.0->anthropic) (2025.4.26)\n",
      "Requirement already satisfied: httpcore==1.* in /opt/miniconda3/lib/python3.13/site-packages (from httpx<1,>=0.25.0->anthropic) (1.0.9)\n",
      "Requirement already satisfied: h11>=0.16 in /opt/miniconda3/lib/python3.13/site-packages (from httpcore==1.*->httpx<1,>=0.25.0->anthropic) (0.16.0)\n",
      "Requirement already satisfied: annotated-types>=0.6.0 in /opt/miniconda3/lib/python3.13/site-packages (from pydantic<3,>=1.9.0->anthropic) (0.6.0)\n",
      "Requirement already satisfied: pydantic-core==2.27.1 in /opt/miniconda3/lib/python3.13/site-packages (from pydantic<3,>=1.9.0->anthropic) (2.27.1)\n"
     ]
    }
   ],
   "source": [
    "!pip install anthropic\n",
    "\n",
    "# Import python's built-in regular expression library\n",
    "import re\n",
    "import anthropic\n",
    "\n",
    "# Retrieve the API_KEY & MODEL_NAME variables from the IPython store\n",
    "%store -r API_KEY\n",
    "%store -r MODEL_NAME\n",
    "\n",
    "client = anthropic.Anthropic(api_key=API_KEY)\n",
    "\n",
    "def get_completion(prompt: str, system_prompt=\"\"):\n",
    "    message = client.messages.create(\n",
    "        model=MODEL_NAME,\n",
    "        max_tokens=2000,\n",
    "        temperature=0.0,\n",
    "        system=system_prompt,\n",
    "        messages=[\n",
    "          {\"role\": \"user\", \"content\": prompt}\n",
    "        ]\n",
    "    )\n",
    "    return message.content[0].text"
   ]
  },
  {
   "cell_type": "markdown",
   "metadata": {},
   "source": [
    "\n",
    "\n",
    "## 课程\n",
    "\n",
    "Anthropic提供两个API，传统的[Text Completions API](https://docs.anthropic.com/claude/reference/complete_post)和当前的[Messages API](https://docs.anthropic.com/claude/reference/messages_post)。对于本教程，我们将专门使用Messages API。\n",
    "\n",
    "使用Messages API调用Claude至少需要以下参数：\n",
    "- `model`：您打算调用的模型的[API模型名称](https://docs.anthropic.com/claude/docs/models-overview#model-recommendations)\n",
    "\n",
    "- `max_tokens`：在停止之前生成的最大token数量。请注意，Claude可能在达到此最大值之前停止。此参数仅指定要生成的绝对最大token数量。此外，这是一个*硬性*停止，意味着它可能导致Claude在单词中间或句子中间停止生成。\n",
    "\n",
    "- `messages`：输入消息数组。我们的模型经过训练，可以在交替的`user`和`assistant`对话轮次中运行。创建新的`Message`时，您使用messages参数指定先前的对话轮次，然后模型生成对话中的下一个`Message`。\n",
    "  - 每个输入消息必须是一个具有`role`和`content`的对象。您可以指定单个`user`角色的消息，或者可以包含多个`user`和`assistant`消息（如果是这样，它们必须交替）。第一条消息必须始终使用user`role`。\n",
    "\n",
    "还有可选参数，例如：\n",
    "- `system`：系统提示 - 更多内容见下文。\n",
    "  \n",
    "- `temperature`：Claude响应中的变化程度。对于这些课程和练习，我们将`temperature`设置为0。\n"
   ]
  },
  {
   "cell_type": "markdown",
   "metadata": {},
   "source": [
    "\n",
    "### 示例\n",
    "\n",
    "让我们来看一下Claude对一些格式正确的提示的回应。对于下方的每个单元格，运行该单元格（`shift+enter`），Claude的回复会显示在代码块下方。"
   ]
  },
  {
   "cell_type": "code",
   "execution_count": 3,
   "metadata": {},
   "outputs": [
    {
     "name": "stdout",
     "output_type": "stream",
     "text": [
      "很高兴认识你!我作为一个人工智能助手,一直在努力学习和提升自己,希望能为人类提供有用的帮助。我会尽我所能回答你的问题,如果有什么不明白的地方也欢迎随时问我。让我们一起探讨有趣的话题吧!\n"
     ]
    }
   ],
   "source": [
    "# Prompt\n",
    "PROMPT = \"Hi Claude, 你好吗?\"\n",
    "\n",
    "# Print Claude's response\n",
    "print(get_completion(PROMPT))"
   ]
  },
  {
   "cell_type": "code",
   "execution_count": 4,
   "metadata": {},
   "outputs": [
    {
     "name": "stdout",
     "output_type": "stream",
     "text": [
      "大海的颜色是多变的,主要取决于以下几个因素:\n",
      "\n",
      "1. 水深:浅海区域通常呈现蓝绿色,而深海区域则呈现深蓝色。\n",
      "\n",
      "2. 天气和光线:晴天时,海面反射天空的颜色,呈现蓝色。阴天时,海面会显得灰蒙蒙的。\n",
      "\n",
      "3. 海底地形和沉积物:海底的岩石、沙子等会影响海水的颜色。有时会出现绿色、褐色等。\n",
      "\n",
      "4. 海藻和浮游生物:海藻和浮游生物的种类和数量也会影响海水的颜色,有时会呈现绿色或褐色。\n",
      "\n",
      "总的来说,大海最常见的颜色是蓝色和蓝绿色。但由于各种因素的影响,大海的颜色会有很大变化,有时甚至会呈现不同的色调。这就是大海的魅力所在。\n"
     ]
    }
   ],
   "source": [
    "# Prompt\n",
    "PROMPT = \"你能告诉我大海是什么颜色的吗?\"\n",
    "\n",
    "# Print Claude's response\n",
    "print(get_completion(PROMPT))"
   ]
  },
  {
   "cell_type": "code",
   "execution_count": 6,
   "metadata": {},
   "outputs": [
    {
     "name": "stdout",
     "output_type": "stream",
     "text": [
      "科比·布莱恩特(Kobe Bryant)是1978年8月23日出生的。\n",
      "\n",
      "他出生于美国宾夕法尼亚州费城,是一名职业篮球运动员,曾效力于NBA洛杉矶湖人队,被认为是NBA历史上最伟大的球员之一。\n",
      "\n",
      "科比·布莱恩特在2020年1月26日不幸在一次直升机坠毁事故中去世,终年41岁。他的去世引发了全球范围内的哀悼和追忆。\n"
     ]
    }
   ],
   "source": [
    "# Prompt\n",
    "PROMPT = \"科比比来恩特是哪年出生的?\"\n",
    "\n",
    "# Print Claude's response\n",
    "print(get_completion(PROMPT))"
   ]
  },
  {
   "cell_type": "markdown",
   "metadata": {},
   "source": [
    "\n",
    "现在让我们来看一些没有采用正确Messages API格式的提示。对于这些格式错误的提示，Messages API会返回错误。\n",
    "\n",
    "首先，我们来看一个在`messages`数组中缺少`role`和`content`字段的Messages API调用示例。"
   ]
  },
  {
   "cell_type": "code",
   "execution_count": null,
   "metadata": {},
   "outputs": [],
   "source": [
    "# Get Claude's response\n",
    "response = client.messages.create(\n",
    "        model=MODEL_NAME,\n",
    "        max_tokens=2000,\n",
    "        temperature=0.0,\n",
    "        messages=[\n",
    "          {\"Hi Claude, how are you?\"}\n",
    "        ]\n",
    "    )\n",
    "\n",
    "# Print Claude's response\n",
    "print(response[0].text)"
   ]
  },
  {
   "cell_type": "markdown",
   "metadata": {},
   "source": [
    "下面是一个没有在 `user` 和 `assistant` 角色之间交替的提示示例。"
   ]
  },
  {
   "cell_type": "code",
   "execution_count": 9,
   "metadata": {},
   "outputs": [
    {
     "ename": "TypeError",
     "evalue": "'Message' object is not subscriptable",
     "output_type": "error",
     "traceback": [
      "\u001b[31m---------------------------------------------------------------------------\u001b[39m",
      "\u001b[31mTypeError\u001b[39m                                 Traceback (most recent call last)",
      "\u001b[36mCell\u001b[39m\u001b[36m \u001b[39m\u001b[32mIn[9]\u001b[39m\u001b[32m, line 13\u001b[39m\n\u001b[32m      2\u001b[39m response = client.messages.create(\n\u001b[32m      3\u001b[39m         model=MODEL_NAME,\n\u001b[32m      4\u001b[39m         max_tokens=\u001b[32m2000\u001b[39m,\n\u001b[32m   (...)\u001b[39m\u001b[32m      9\u001b[39m         ]\n\u001b[32m     10\u001b[39m     )\n\u001b[32m     12\u001b[39m \u001b[38;5;66;03m# Print Claude's response\u001b[39;00m\n\u001b[32m---> \u001b[39m\u001b[32m13\u001b[39m \u001b[38;5;28mprint\u001b[39m(\u001b[43mresponse\u001b[49m\u001b[43m[\u001b[49m\u001b[32;43m0\u001b[39;49m\u001b[43m]\u001b[49m.text)\n",
      "\u001b[31mTypeError\u001b[39m: 'Message' object is not subscriptable"
     ]
    }
   ],
   "source": [
    "# Get Claude's response\n",
    "response = client.messages.create(\n",
    "        model=MODEL_NAME,\n",
    "        max_tokens=2000,\n",
    "        temperature=0.0,\n",
    "        messages=[\n",
    "          {\"role\": \"user\", \"content\": \"科比比来恩特是哪年出生的??\"},\n",
    "          {\"role\": \"user\", \"content\": \"也告诉关于他的另外一些事情?\"}\n",
    "        ]\n",
    "    )\n",
    "\n",
    "# Print Claude's response\n",
    "print(response[0].text)"
   ]
  },
  {
   "cell_type": "markdown",
   "metadata": {},
   "source": [
    "\n",
    "`user` 和 `assistant` 消息**必须交替**，并且消息**必须以 `user` 轮次开始**。您可以在提示中有多个 `user` 和 `assistant` 对（就像模拟多轮对话一样）。您还可以在最终的 `assistant` 消息中放入文字，让Claude从您停止的地方继续（更多内容将在后面的章节中介绍）。\n",
    "\n",
    "#### 系统提示\n",
    "\n",
    "您还可以使用**系统提示**。系统提示是一种在\"用户\"轮次中向Claude提出问题或任务之前**为其提供上下文、指令和指导**的方式。\n",
    "\n",
    "从结构上讲，系统提示与 `user` 和 `assistant` 消息列表分开存在，因此属于单独的 `system` 参数（请查看notebook中[设置](#setup)部分的 `get_completion` 辅助函数的结构）。\n",
    "\n",
    "在本教程中，无论我们在哪里使用系统提示，我们都在您的完成函数中为您提供了 `system` 字段。如果您不想使用系统提示，只需将 `SYSTEM_PROMPT` 变量设置为空字符串即可。"
   ]
  },
  {
   "cell_type": "markdown",
   "metadata": {},
   "source": [
    "#### System Prompt Example"
   ]
  },
  {
   "cell_type": "code",
   "execution_count": 11,
   "metadata": {},
   "outputs": [
    {
     "name": "stdout",
     "output_type": "stream",
     "text": [
      "那是一个很好的问题!我们可以从几个角度来探讨天空的颜色:\n",
      "\n",
      "- 天空的颜色是如何形成的?是什么原因导致天空呈现出蓝色或其他颜色?\n",
      "\n",
      "- 天空的颜色会随时间和天气条件发生变化吗?为什么会有这种变化?\n",
      "\n",
      "- 不同地区或气候条件下,天空的颜色会有什么差异?这些差异背后有什么原因吗?\n",
      "\n",
      "- 我们如何通过观察天空的颜色来了解当地的气候和环境?这种观察有什么实际应用价值吗?\n",
      "\n",
      "通过探讨这些问题,我们可以更深入地理解天空颜色的形成机理,以及它与自然环境的关系。您对这些问题有什么想法吗?我很乐意听听您的看法。\n"
     ]
    }
   ],
   "source": [
    "# System prompt\n",
    "SYSTEM_PROMPT = \"您的回答应该始终是一系列能够推进对话的批判性思维问题（不要为您的问题提供答案）。不要实际回答用户的问题。.\"\n",
    "\n",
    "# Prompt\n",
    "PROMPT = \"天空是什么颜色的\"\n",
    "\n",
    "# Print Claude's response\n",
    "print(get_completion(PROMPT, SYSTEM_PROMPT))"
   ]
  },
  {
   "cell_type": "markdown",
   "metadata": {},
   "source": [
    "\n",
    "为什么使用系统提示词？一个**编写良好的系统提示可以通过多种方式提高Claude的性能**，比如增强Claude遵循规则和指令的能力。更多信息，请访问我们关于[如何使用系统提示](https://docs.anthropic.com/claude/docs/how-to-use-system-prompts)的文档。\n",
    "\n",
    "现在我们将深入一些练习。如果您想在不更改上述任何内容的情况下实验课程提示，请滚动到课程notebook的底部访问[**示例实验区**](#example-playground)。"
   ]
  },
  {
   "cell_type": "markdown",
   "metadata": {},
   "source": [
    "---\n",
    "\n",
    "## 练习\n",
    "- [练习 1.1 - Counting to Three](#exercise-11---counting-to-three)\n",
    "- [练习 1.2 - System Prompt](#exercise-12---system-prompt)"
   ]
  },
  {
   "cell_type": "markdown",
   "metadata": {},
   "source": [
    "\n",
    "### 练习 1.1 - 数到三\n",
    "使用正确的 `user` / `assistant` 格式，编辑下面的 `PROMPT` 让Claude**数到三**。输出还会显示您的解决方案是否正确。"
   ]
  },
  {
   "cell_type": "code",
   "execution_count": null,
   "metadata": {},
   "outputs": [
    {
     "name": "stdout",
     "output_type": "stream",
     "text": [
      "1, 2, 3.\n",
      "\n",
      "--------------------------- GRADING ---------------------------\n",
      "This exercise has been correctly solved: True\n"
     ]
    }
   ],
   "source": [
    "# Prompt - this is the only field you should change\n",
    "PROMPT = \"[Replace this text]\"\n",
    "\n",
    "# Get Claude's response\n",
    "response = get_completion(PROMPT)\n",
    "\n",
    "# Function to grade exercise correctness\n",
    "def grade_exercise(text):\n",
    "    pattern = re.compile(r'^(?=.*1)(?=.*2)(?=.*3).*$', re.DOTALL)\n",
    "    return bool(pattern.match(text))\n",
    "\n",
    "# Print Claude's response and the corresponding grade\n",
    "print(response)\n",
    "print(\"\\n--------------------------- GRADING ---------------------------\")\n",
    "print(\"This exercise has been correctly solved:\", grade_exercise(response))"
   ]
  },
  {
   "cell_type": "markdown",
   "metadata": {},
   "source": [
    "\n",
    "### 练习 1.2 - 系统提示\n",
    "\n",
    "修改 `SYSTEM_PROMPT` 使Claude像3岁孩子一样回应。"
   ]
  },
  {
   "cell_type": "code",
   "execution_count": null,
   "metadata": {},
   "outputs": [],
   "source": [
    "# System prompt - this is the only field you should change\n",
    "SYSTEM_PROMPT = \"[Replace this text]\"\n",
    "\n",
    "# Prompt\n",
    "PROMPT = \"How big is the sky?\"\n",
    "\n",
    "# Get Claude's response\n",
    "response = get_completion(PROMPT, SYSTEM_PROMPT)\n",
    "\n",
    "# Function to grade exercise correctness\n",
    "def grade_exercise(text):\n",
    "    return bool(re.search(r\"giggles\", text) or re.search(r\"soo\", text))\n",
    "\n",
    "# Print Claude's response and the corresponding grade\n",
    "print(response)\n",
    "print(\"\\n--------------------------- GRADING ---------------------------\")\n",
    "print(\"This exercise has been correctly solved:\", grade_exercise(response))"
   ]
  },
  {
   "cell_type": "markdown",
   "metadata": {},
   "source": [
    "\n",
    "### 恭喜！\n",
    "\n",
    "如果您已经解决了到目前为止的所有练习，您就可以进入下一章了。祝您提示愉快！"
   ]
  }
 ],
 "metadata": {
  "kernelspec": {
   "display_name": "base",
   "language": "python",
   "name": "python3"
  },
  "language_info": {
   "codemirror_mode": {
    "name": "ipython",
    "version": 3
   },
   "file_extension": ".py",
   "mimetype": "text/x-python",
   "name": "python",
   "nbconvert_exporter": "python",
   "pygments_lexer": "ipython3",
   "version": "3.13.2"
  }
 },
 "nbformat": 4,
 "nbformat_minor": 2
}
