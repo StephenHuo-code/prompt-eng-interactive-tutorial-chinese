{
 "cells": [
  {
   "cell_type": "markdown",
   "id": "27815544",
   "metadata": {},
   "source": [
    "# 附录10.2 使用langsmith做prompt调用的跟踪\n"
   ]
  },
  {
   "cell_type": "markdown",
   "id": "a465c30e",
   "metadata": {},
   "source": [
    "## 1. 安装依赖包"
   ]
  },
  {
   "cell_type": "code",
   "execution_count": null,
   "id": "e0ce8529",
   "metadata": {},
   "outputs": [],
   "source": [
    "!pip install -U langsmith openai"
   ]
  },
  {
   "cell_type": "markdown",
   "id": "6096d73e",
   "metadata": {},
   "source": [
    "## 2. 创建Langsmith API Key\n",
    "\n",
    "访问页面Langsmith并创建API KEY [https://smith.langchain.com/o/64cfaf30-2541-510a-9884-b3fd89509d24/settings/apikeys]. "
   ]
  },
  {
   "cell_type": "markdown",
   "id": "25ecb89d",
   "metadata": {},
   "source": [
    "## 3. 设置环境变量\n",
    "\n",
    "在环境变量里设置LANGSMITH_TRACING和LANGSMITH_API_KEY，或直接使用下面代码引用\n",
    "\n"
   ]
  },
  {
   "cell_type": "code",
   "execution_count": null,
   "id": "b69252e0",
   "metadata": {},
   "outputs": [
    {
     "name": "stdout",
     "output_type": "stream",
     "text": [
      "LANGSMITH_API_KEY: lsv2_pt_82...c6ce\n",
      "LANGSMITH_TRACING: true\n"
     ]
    }
   ],
   "source": [
    "# export LANGSMITH_TRACING=true\n",
    "# export LANGSMITH_API_KEY=\"<your-langsmith-api-key>\"\n",
    "# The example uses OpenAI, but it's not necessary if your code uses another LLM provider\n",
    "# export OPENAI_API_KEY=\"<your-openai-api-key>\"\n",
    "\n",
    "# 读取LANGSMITH_API_KEY\n",
    "import os\n",
    "langsmith_api_key = os.getenv('LANGSMITH_API_KEY')\n",
    "if langsmith_api_key:\n",
    "    print(f\"LANGSMITH_API_KEY: {langsmith_api_key[:10]}...{langsmith_api_key[-4:] if len(langsmith_api_key) > 14 else '***'}\")\n",
    "else:\n",
    "    print(\"LANGSMITH_API_KEY 未设置\")\n",
    "\n",
    "# 读取LANGSMITH_TRACING\n",
    "langsmith_tracing = os.getenv('LANGSMITH_TRACING')\n",
    "if langsmith_tracing:\n",
    "    print(f\"LANGSMITH_TRACING: {langsmith_tracing}\")\n",
    "else:\n",
    "    print(\"LANGSMITH_TRACING 未设置\")\n"
   ]
  },
  {
   "cell_type": "markdown",
   "id": "431b633d",
   "metadata": {},
   "source": [
    "## 4. 使用langchain的wraper来保证所有的大模型的调用被跟踪"
   ]
  },
  {
   "cell_type": "code",
   "execution_count": 5,
   "id": "1835dae9",
   "metadata": {},
   "outputs": [],
   "source": [
    "from openai import OpenAI\n",
    "from langsmith.wrappers import wrap_openai\n",
    "\n",
    "openai_client = wrap_openai(OpenAI())\n",
    "\n",
    "# This is the retriever we will use in RAG\n",
    "# This is mocked out, but it could be anything we want\n",
    "def retriever(query: str):\n",
    "    results = [\"Harrison worked at Kensho\"]\n",
    "    return results\n",
    "\n",
    "# This is the end-to-end RAG chain.\n",
    "# It does a retrieval step then calls OpenAI\n",
    "def rag(question):\n",
    "    docs = retriever(question)\n",
    "    system_message = \"\"\"Answer the users question using only the provided information below:\n",
    "    \n",
    "    {docs}\"\"\".format(docs=\"\\n\".join(docs))\n",
    "    \n",
    "    return openai_client.chat.completions.create(\n",
    "        messages=[\n",
    "            {\"role\": \"system\", \"content\": system_message},\n",
    "            {\"role\": \"user\", \"content\": question},\n",
    "        ],\n",
    "        model=\"gpt-4o-mini\",\n",
    "    )"
   ]
  },
  {
   "cell_type": "code",
   "execution_count": 6,
   "id": "a6942c1f",
   "metadata": {},
   "outputs": [
    {
     "data": {
      "text/plain": [
       "ChatCompletion(id='chatcmpl-BzDT5skOsbiOjgARjcotgc5y3mu2L', choices=[Choice(finish_reason='stop', index=0, logprobs=None, message=ChatCompletionMessage(content='Harrison worked at Kensho.', refusal=None, role='assistant', annotations=[], audio=None, function_call=None, tool_calls=None))], created=1753929479, model='gpt-4o-mini-2024-07-18', object='chat.completion', service_tier='default', system_fingerprint='fp_34a54ae93c', usage=CompletionUsage(completion_tokens=7, prompt_tokens=33, total_tokens=40, completion_tokens_details=CompletionTokensDetails(accepted_prediction_tokens=0, audio_tokens=0, reasoning_tokens=0, rejected_prediction_tokens=0), prompt_tokens_details=PromptTokensDetails(audio_tokens=0, cached_tokens=0)))"
      ]
     },
     "execution_count": 6,
     "metadata": {},
     "output_type": "execute_result"
    }
   ],
   "source": [
    "rag(\"where did harrison work\")"
   ]
  },
  {
   "cell_type": "markdown",
   "id": "d81d9a65",
   "metadata": {},
   "source": [
    "## 5. 查看调用结果[Link](https://smith.langchain.com/public/e7b7d256-10fe-4d49-a8d5-36ca8e5af0d2/r?_gl=1*1elnobj*_gcl_au*MTI5NDQwNTY2NC4xNzUwOTA5MTIx*_ga*MTUwMTA5NDE0OS4xNzUzODYzMzI3*_ga_47WX3HKKY2*czE3NTM5MjYzMDIkbzUkZzEkdDE3NTM5MjgwMjckajYwJGwwJGgw)\n",
    "\n",
    "\n",
    "\n",
    "\n"
   ]
  },
  {
   "cell_type": "code",
   "execution_count": null,
   "id": "02f7f175",
   "metadata": {},
   "outputs": [],
   "source": []
  }
 ],
 "metadata": {
  "kernelspec": {
   "display_name": "base",
   "language": "python",
   "name": "python3"
  },
  "language_info": {
   "codemirror_mode": {
    "name": "ipython",
    "version": 3
   },
   "file_extension": ".py",
   "mimetype": "text/x-python",
   "name": "python",
   "nbconvert_exporter": "python",
   "pygments_lexer": "ipython3",
   "version": "3.13.2"
  }
 },
 "nbformat": 4,
 "nbformat_minor": 5
}
